{
  "nbformat": 4,
  "nbformat_minor": 0,
  "metadata": {
    "colab": {
      "provenance": []
    },
    "kernelspec": {
      "name": "python3",
      "display_name": "Python 3"
    },
    "language_info": {
      "name": "python"
    }
  },
  "cells": [
    {
      "cell_type": "code",
      "source": [
        "import pandas as pd\n",
        "import numpy as np\n",
        "import matplotlib.pyplot as plt\n",
        "import seaborn as sns\n",
        "\n",
        "from sklearn.model_selection import train_test_split\n",
        "from sklearn.preprocessing import StandardScaler\n",
        "from sklearn.ensemble import RandomForestClassifier, RandomForestRegressor\n",
        "from sklearn.metrics import (confusion_matrix, classification_report,\n",
        "                             accuracy_score, precision_score, recall_score,\n",
        "                             mean_squared_error, r2_score)\n",
        "from sklearn.cluster import KMeans\n",
        "from sklearn.decomposition import PCA"
      ],
      "metadata": {
        "id": "l_C37Hg1tmqb"
      },
      "execution_count": 5,
      "outputs": []
    },
    {
      "cell_type": "code",
      "source": [
        "# Load the dataset\n",
        "df = pd.read_csv('/content/drive/MyDrive/air_quality.csv')"
      ],
      "metadata": {
        "id": "nxKwK3HsuM4w"
      },
      "execution_count": 6,
      "outputs": []
    },
    {
      "cell_type": "code",
      "source": [
        "# Drop rows with missing values\n",
        "df.dropna(inplace=True)"
      ],
      "metadata": {
        "id": "53qOmtWtuOI6"
      },
      "execution_count": 7,
      "outputs": []
    },
    {
      "cell_type": "code",
      "source": [
        "# Decide the target column\n",
        "target_column = 'quality_level' if 'quality_level' in df.columns else 'AQI'"
      ],
      "metadata": {
        "id": "9foSX1INuSoF"
      },
      "execution_count": 8,
      "outputs": []
    },
    {
      "cell_type": "code",
      "source": [
        " Classification or Regression?\n",
        "is_classification = df[target_column].dtype == 'object'"
      ],
      "metadata": {
        "colab": {
          "base_uri": "https://localhost:8080/"
        },
        "id": "TRpZ21eTuWqn",
        "outputId": "2b41ee06-f7d6-472b-cda5-593d98a108a9"
      },
      "execution_count": 9,
      "outputs": [
        {
          "output_type": "stream",
          "name": "stdout",
          "text": [
            "Object `Regression` not found.\n"
          ]
        }
      ]
    },
    {
      "cell_type": "code",
      "source": [
        "# Split data\n",
        "X = df.drop(columns=[target_column])\n",
        "y = df[target_column]"
      ],
      "metadata": {
        "id": "mXRYTdk7uaRg"
      },
      "execution_count": 10,
      "outputs": []
    },
    {
      "cell_type": "code",
      "source": [
        "# Standardize features\n",
        "scaler = StandardScaler()\n",
        "X_scaled = scaler.fit_transform(X)"
      ],
      "metadata": {
        "id": "Xb8O7neMufU3"
      },
      "execution_count": 11,
      "outputs": []
    },
    {
      "cell_type": "code",
      "source": [
        "# Perform classification\n",
        "if is_classification:\n",
        "    # Split data\n",
        "    X_train, X_test, y_train, y_test = train_test_split(X_scaled, y, test_size=0.2, random_state=42)\n",
        "\n",
        "    # Train classifier\n",
        "    clf = RandomForestClassifier(n_estimators=100, random_state=42)\n",
        "    clf.fit(X_train, y_train)\n",
        "    y_pred = clf.predict(X_test)\n",
        "\n",
        "    # Confusion Matrix\n",
        "    cm = confusion_matrix(y_test, y_pred, labels=clf.classes_)\n",
        "    plt.figure(figsize=(6, 4))\n",
        "    sns.heatmap(cm, annot=True, fmt='d', cmap='Blues', xticklabels=clf.classes_, yticklabels=clf.classes_)\n",
        "    plt.xlabel('Predicted')\n",
        "    plt.ylabel('Actual')\n",
        "    plt.title('Confusion Matrix')\n",
        "    plt.show()\n",
        "\n",
        "    # Evaluation metrics\n",
        "    print(\"\\n--- Classification Report ---\\n\")\n",
        "    print(classification_report(y_test, y_pred))\n",
        "    print(\"Accuracy:\", accuracy_score(y_test, y_pred))\n",
        "    print(\"Precision:\", precision_score(y_test, y_pred, average='macro'))\n",
        "    print(\"Recall:\", recall_score(y_test, y_pred, average='macro'))\n",
        "\n",
        "else:\n",
        "    # Regression\n",
        "    X_train, X_test, y_train, y_test = train_test_split(X_scaled, y, test_size=0.2, random_state=42)\n",
        "\n",
        "    model = RandomForestRegressor(n_estimators=100, random_state=42)\n",
        "    model.fit(X_train, y_train)\n",
        "    y_pred = model.predict(X_test)\n",
        "\n",
        "    # Evaluation\n",
        "    print(\"Mean Squared Error:\", mean_squared_error(y_test, y_pred)) # This line and all the lines below it in this 'else' block\n",
        "    print(\"R-squared Score:\", r2_score(y_test, y_pred))            # should be indented by one level (4 spaces)\n",
        "                                                                    # to indicate that it is part of the 'else' block\n",
        "\n",
        "    # Clustering on input features\n",
        "    kmeans = KMeans(n_clusters=3, random_state=42)\n",
        "    clusters = kmeans.fit_predict(X_scaled)\n",
        "\n",
        "    # Reduce to 2D for visualization\n",
        "    pca = PCA(n_components=2)\n",
        "    X_2d = pca.fit_transform(X_scaled)\n",
        "\n",
        "    # Plot clusters\n",
        "    plt.figure(figsize=(8, 5))\n",
        "    sns.scatterplot(x=X_2d[:, 0], y=X_2d[:, 1], hue=clusters, palette='Set2')\n",
        "    plt.title('KMeans Clustering on Air Quality Data')\n",
        "    plt.xlabel('PCA Component 1')\n",
        "    plt.ylabel('PCA Component 2')\n",
        "    plt.show()"
      ],
      "metadata": {
        "colab": {
          "base_uri": "https://localhost:8080/",
          "height": 688
        },
        "id": "tWbu3Zz5wZpx",
        "outputId": "57f74bc7-ee70-4f9b-cfc2-e612fbc73fa0"
      },
      "execution_count": 24,
      "outputs": [
        {
          "output_type": "display_data",
          "data": {
            "text/plain": [
              "<Figure size 600x400 with 2 Axes>"
            ],
            "image/png": "[encoded data removed]"
          },
          "metadata": {}
        },
        {
          "output_type": "stream",
          "name": "stdout",
          "text": [
            "\n",
            "--- Classification Report ---\n",
            "\n",
            "              precision    recall  f1-score   support\n",
            "\n",
            "        high       0.40      0.67      0.50         6\n",
            "         low       0.20      0.12      0.15         8\n",
            "      medium       0.40      0.33      0.36         6\n",
            "\n",
            "    accuracy                           0.35        20\n",
            "   macro avg       0.33      0.38      0.34        20\n",
            "weighted avg       0.32      0.35      0.32        20\n",
            "\n",
            "Accuracy: 0.35\n",
            "Precision: 0.3333333333333333\n",
            "Recall: 0.375\n"
          ]
        }
      ]
    }
  ]
}